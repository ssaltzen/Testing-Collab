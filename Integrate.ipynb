{
  "nbformat": 4,
  "nbformat_minor": 0,
  "metadata": {
    "colab": {
      "name": "Integrate.ipynb",
      "provenance": [],
      "authorship_tag": "ABX9TyNFwdBJsYF2VjOe+rjYoy4K",
      "include_colab_link": true
    },
    "kernelspec": {
      "name": "python3",
      "display_name": "Python 3"
    }
  },
  "cells": [
    {
      "cell_type": "markdown",
      "metadata": {
        "id": "view-in-github",
        "colab_type": "text"
      },
      "source": [
        "<a href=\"https://colab.research.google.com/github/ssaltzen/Testing-Collab/blob/master/Integrate.ipynb\" target=\"_parent\"><img src=\"https://colab.research.google.com/assets/colab-badge.svg\" alt=\"Open In Colab\"/></a>"
      ]
    },
    {
      "cell_type": "code",
      "metadata": {
        "id": "OHkaO_CJUe87"
      },
      "source": [
        "f = open(\"demofile.txt\", \"r\")\r\n",
        "print(f.read())"
      ],
      "execution_count": null,
      "outputs": []
    }
  ]
}